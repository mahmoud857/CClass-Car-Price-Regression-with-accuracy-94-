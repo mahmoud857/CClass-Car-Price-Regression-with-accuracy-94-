{
 "cells": [
  {
   "cell_type": "code",
   "execution_count": 1,
   "id": "a3e47e39",
   "metadata": {
    "execution": {
     "iopub.execute_input": "2021-09-02T14:32:57.147854Z",
     "iopub.status.busy": "2021-09-02T14:32:57.146533Z",
     "iopub.status.idle": "2021-09-02T14:32:58.622238Z",
     "shell.execute_reply": "2021-09-02T14:32:58.621514Z",
     "shell.execute_reply.started": "2021-09-02T14:32:32.263485Z"
    },
    "papermill": {
     "duration": 1.499034,
     "end_time": "2021-09-02T14:32:58.622419",
     "exception": false,
     "start_time": "2021-09-02T14:32:57.123385",
     "status": "completed"
    },
    "tags": []
   },
   "outputs": [],
   "source": [
    "import pandas as pd\n",
    "import numpy as np\n",
    "from sklearn.preprocessing import LabelEncoder\n",
    "from sklearn.preprocessing import MinMaxScaler\n",
    "from sklearn.model_selection import train_test_split\n",
    "from sklearn.ensemble import RandomForestRegressor\n",
    "from sklearn.linear_model import LinearRegression\n",
    "from sklearn.tree import DecisionTreeRegressor\n",
    "from sklearn.metrics import mean_squared_error"
   ]
  },
  {
   "cell_type": "code",
   "execution_count": 2,
   "id": "d243dbad",
   "metadata": {
    "execution": {
     "iopub.execute_input": "2021-09-02T14:32:58.665543Z",
     "iopub.status.busy": "2021-09-02T14:32:58.664902Z",
     "iopub.status.idle": "2021-09-02T14:32:58.726188Z",
     "shell.execute_reply": "2021-09-02T14:32:58.725587Z",
     "shell.execute_reply.started": "2021-09-02T13:35:19.281596Z"
    },
    "papermill": {
     "duration": 0.084435,
     "end_time": "2021-09-02T14:32:58.726333",
     "exception": false,
     "start_time": "2021-09-02T14:32:58.641898",
     "status": "completed"
    },
    "tags": []
   },
   "outputs": [
    {
     "data": {
      "text/html": [
       "<div>\n",
       "<style scoped>\n",
       "    .dataframe tbody tr th:only-of-type {\n",
       "        vertical-align: middle;\n",
       "    }\n",
       "\n",
       "    .dataframe tbody tr th {\n",
       "        vertical-align: top;\n",
       "    }\n",
       "\n",
       "    .dataframe thead th {\n",
       "        text-align: right;\n",
       "    }\n",
       "</style>\n",
       "<table border=\"1\" class=\"dataframe\">\n",
       "  <thead>\n",
       "    <tr style=\"text-align: right;\">\n",
       "      <th></th>\n",
       "      <th>model</th>\n",
       "      <th>year</th>\n",
       "      <th>price</th>\n",
       "      <th>transmission</th>\n",
       "      <th>mileage</th>\n",
       "      <th>fuelType</th>\n",
       "      <th>engineSize</th>\n",
       "    </tr>\n",
       "  </thead>\n",
       "  <tbody>\n",
       "    <tr>\n",
       "      <th>0</th>\n",
       "      <td>C Class</td>\n",
       "      <td>2020</td>\n",
       "      <td>30495</td>\n",
       "      <td>Automatic</td>\n",
       "      <td>1200</td>\n",
       "      <td>Diesel</td>\n",
       "      <td>2.0</td>\n",
       "    </tr>\n",
       "    <tr>\n",
       "      <th>1</th>\n",
       "      <td>C Class</td>\n",
       "      <td>2020</td>\n",
       "      <td>29989</td>\n",
       "      <td>Automatic</td>\n",
       "      <td>1000</td>\n",
       "      <td>Petrol</td>\n",
       "      <td>1.5</td>\n",
       "    </tr>\n",
       "    <tr>\n",
       "      <th>2</th>\n",
       "      <td>C Class</td>\n",
       "      <td>2020</td>\n",
       "      <td>37899</td>\n",
       "      <td>Automatic</td>\n",
       "      <td>500</td>\n",
       "      <td>Diesel</td>\n",
       "      <td>2.0</td>\n",
       "    </tr>\n",
       "    <tr>\n",
       "      <th>3</th>\n",
       "      <td>C Class</td>\n",
       "      <td>2019</td>\n",
       "      <td>30399</td>\n",
       "      <td>Automatic</td>\n",
       "      <td>5000</td>\n",
       "      <td>Diesel</td>\n",
       "      <td>2.0</td>\n",
       "    </tr>\n",
       "    <tr>\n",
       "      <th>4</th>\n",
       "      <td>C Class</td>\n",
       "      <td>2019</td>\n",
       "      <td>29899</td>\n",
       "      <td>Automatic</td>\n",
       "      <td>4500</td>\n",
       "      <td>Diesel</td>\n",
       "      <td>2.0</td>\n",
       "    </tr>\n",
       "  </tbody>\n",
       "</table>\n",
       "</div>"
      ],
      "text/plain": [
       "      model  year  price transmission  mileage fuelType  engineSize\n",
       "0   C Class  2020  30495    Automatic     1200   Diesel         2.0\n",
       "1   C Class  2020  29989    Automatic     1000   Petrol         1.5\n",
       "2   C Class  2020  37899    Automatic      500   Diesel         2.0\n",
       "3   C Class  2019  30399    Automatic     5000   Diesel         2.0\n",
       "4   C Class  2019  29899    Automatic     4500   Diesel         2.0"
      ]
     },
     "execution_count": 2,
     "metadata": {},
     "output_type": "execute_result"
    }
   ],
   "source": [
    "cclass=pd.read_csv(\"../input/used-car-dataset-ford-and-mercedes/cclass.csv\")\n",
    "cclass.head()"
   ]
  },
  {
   "cell_type": "code",
   "execution_count": 3,
   "id": "d1190b96",
   "metadata": {
    "execution": {
     "iopub.execute_input": "2021-09-02T14:32:58.772080Z",
     "iopub.status.busy": "2021-09-02T14:32:58.771421Z",
     "iopub.status.idle": "2021-09-02T14:32:58.777392Z",
     "shell.execute_reply": "2021-09-02T14:32:58.776746Z",
     "shell.execute_reply.started": "2021-09-02T13:35:33.129468Z"
    },
    "papermill": {
     "duration": 0.031689,
     "end_time": "2021-09-02T14:32:58.777534",
     "exception": false,
     "start_time": "2021-09-02T14:32:58.745845",
     "status": "completed"
    },
    "tags": []
   },
   "outputs": [
    {
     "data": {
      "text/plain": [
       "model            object\n",
       "year              int64\n",
       "price             int64\n",
       "transmission     object\n",
       "mileage           int64\n",
       "fuelType         object\n",
       "engineSize      float64\n",
       "dtype: object"
      ]
     },
     "execution_count": 3,
     "metadata": {},
     "output_type": "execute_result"
    }
   ],
   "source": [
    "cclass.dtypes"
   ]
  },
  {
   "cell_type": "code",
   "execution_count": 4,
   "id": "784febdc",
   "metadata": {
    "execution": {
     "iopub.execute_input": "2021-09-02T14:32:58.824000Z",
     "iopub.status.busy": "2021-09-02T14:32:58.823326Z",
     "iopub.status.idle": "2021-09-02T14:32:58.829436Z",
     "shell.execute_reply": "2021-09-02T14:32:58.828936Z",
     "shell.execute_reply.started": "2021-09-02T13:35:41.384374Z"
    },
    "papermill": {
     "duration": 0.03138,
     "end_time": "2021-09-02T14:32:58.829579",
     "exception": false,
     "start_time": "2021-09-02T14:32:58.798199",
     "status": "completed"
    },
    "tags": []
   },
   "outputs": [
    {
     "data": {
      "text/plain": [
       "(3899, 7)"
      ]
     },
     "execution_count": 4,
     "metadata": {},
     "output_type": "execute_result"
    }
   ],
   "source": [
    "cclass.shape"
   ]
  },
  {
   "cell_type": "code",
   "execution_count": 5,
   "id": "805a48c7",
   "metadata": {
    "execution": {
     "iopub.execute_input": "2021-09-02T14:32:58.884968Z",
     "iopub.status.busy": "2021-09-02T14:32:58.884113Z",
     "iopub.status.idle": "2021-09-02T14:32:58.887170Z",
     "shell.execute_reply": "2021-09-02T14:32:58.887697Z",
     "shell.execute_reply.started": "2021-09-02T13:35:51.914562Z"
    },
    "papermill": {
     "duration": 0.037123,
     "end_time": "2021-09-02T14:32:58.887872",
     "exception": false,
     "start_time": "2021-09-02T14:32:58.850749",
     "status": "completed"
    },
    "tags": []
   },
   "outputs": [
    {
     "data": {
      "text/plain": [
       "<bound method NDFrame.describe of          model  year  price transmission  mileage fuelType  engineSize\n",
       "0      C Class  2020  30495    Automatic     1200   Diesel         2.0\n",
       "1      C Class  2020  29989    Automatic     1000   Petrol         1.5\n",
       "2      C Class  2020  37899    Automatic      500   Diesel         2.0\n",
       "3      C Class  2019  30399    Automatic     5000   Diesel         2.0\n",
       "4      C Class  2019  29899    Automatic     4500   Diesel         2.0\n",
       "...        ...   ...    ...          ...      ...      ...         ...\n",
       "3894   C Class  2017  14700       Manual    31357   Diesel         1.6\n",
       "3895   C Class  2018  18500    Automatic    28248   Diesel         2.1\n",
       "3896   C Class  2014  11900       Manual    48055   Diesel         2.1\n",
       "3897   C Class  2014  11300    Automatic    49865   Diesel         2.1\n",
       "3898   C Class  2014  14800    Automatic    55445   Diesel         2.1\n",
       "\n",
       "[3899 rows x 7 columns]>"
      ]
     },
     "execution_count": 5,
     "metadata": {},
     "output_type": "execute_result"
    }
   ],
   "source": [
    "cclass.describe"
   ]
  },
  {
   "cell_type": "code",
   "execution_count": 6,
   "id": "9d748c60",
   "metadata": {
    "execution": {
     "iopub.execute_input": "2021-09-02T14:32:58.933766Z",
     "iopub.status.busy": "2021-09-02T14:32:58.933056Z",
     "iopub.status.idle": "2021-09-02T14:32:58.944771Z",
     "shell.execute_reply": "2021-09-02T14:32:58.945288Z",
     "shell.execute_reply.started": "2021-09-02T13:35:59.701077Z"
    },
    "papermill": {
     "duration": 0.036505,
     "end_time": "2021-09-02T14:32:58.945468",
     "exception": false,
     "start_time": "2021-09-02T14:32:58.908963",
     "status": "completed"
    },
    "tags": []
   },
   "outputs": [
    {
     "data": {
      "text/plain": [
       "<bound method DataFrame.info of          model  year  price transmission  mileage fuelType  engineSize\n",
       "0      C Class  2020  30495    Automatic     1200   Diesel         2.0\n",
       "1      C Class  2020  29989    Automatic     1000   Petrol         1.5\n",
       "2      C Class  2020  37899    Automatic      500   Diesel         2.0\n",
       "3      C Class  2019  30399    Automatic     5000   Diesel         2.0\n",
       "4      C Class  2019  29899    Automatic     4500   Diesel         2.0\n",
       "...        ...   ...    ...          ...      ...      ...         ...\n",
       "3894   C Class  2017  14700       Manual    31357   Diesel         1.6\n",
       "3895   C Class  2018  18500    Automatic    28248   Diesel         2.1\n",
       "3896   C Class  2014  11900       Manual    48055   Diesel         2.1\n",
       "3897   C Class  2014  11300    Automatic    49865   Diesel         2.1\n",
       "3898   C Class  2014  14800    Automatic    55445   Diesel         2.1\n",
       "\n",
       "[3899 rows x 7 columns]>"
      ]
     },
     "execution_count": 6,
     "metadata": {},
     "output_type": "execute_result"
    }
   ],
   "source": [
    "cclass.info"
   ]
  },
  {
   "cell_type": "code",
   "execution_count": 7,
   "id": "595ef67f",
   "metadata": {
    "execution": {
     "iopub.execute_input": "2021-09-02T14:32:58.992146Z",
     "iopub.status.busy": "2021-09-02T14:32:58.991444Z",
     "iopub.status.idle": "2021-09-02T14:32:59.002016Z",
     "shell.execute_reply": "2021-09-02T14:32:59.001395Z",
     "shell.execute_reply.started": "2021-09-02T13:39:13.455433Z"
    },
    "papermill": {
     "duration": 0.034809,
     "end_time": "2021-09-02T14:32:59.002168",
     "exception": false,
     "start_time": "2021-09-02T14:32:58.967359",
     "status": "completed"
    },
    "tags": []
   },
   "outputs": [
    {
     "data": {
      "text/plain": [
       "model           0\n",
       "year            0\n",
       "price           0\n",
       "transmission    0\n",
       "mileage         0\n",
       "fuelType        0\n",
       "engineSize      0\n",
       "dtype: int64"
      ]
     },
     "execution_count": 7,
     "metadata": {},
     "output_type": "execute_result"
    }
   ],
   "source": [
    "cclass.isnull().sum()"
   ]
  },
  {
   "cell_type": "code",
   "execution_count": 8,
   "id": "a8938f2f",
   "metadata": {
    "execution": {
     "iopub.execute_input": "2021-09-02T14:32:59.057973Z",
     "iopub.status.busy": "2021-09-02T14:32:59.057300Z",
     "iopub.status.idle": "2021-09-02T14:32:59.061785Z",
     "shell.execute_reply": "2021-09-02T14:32:59.061235Z",
     "shell.execute_reply.started": "2021-09-02T13:40:45.610821Z"
    },
    "papermill": {
     "duration": 0.037853,
     "end_time": "2021-09-02T14:32:59.061925",
     "exception": false,
     "start_time": "2021-09-02T14:32:59.024072",
     "status": "completed"
    },
    "tags": []
   },
   "outputs": [
    {
     "data": {
      "text/plain": [
       "{0: ' C Class'}"
      ]
     },
     "execution_count": 8,
     "metadata": {},
     "output_type": "execute_result"
    }
   ],
   "source": [
    "encoder = LabelEncoder()\n",
    "cclass['model'] = encoder.fit_transform(cclass['model'])\n",
    "model_mapping = {index : label for index, label in enumerate(encoder.classes_)}\n",
    "model_mapping"
   ]
  },
  {
   "cell_type": "code",
   "execution_count": 9,
   "id": "93875b68",
   "metadata": {
    "execution": {
     "iopub.execute_input": "2021-09-02T14:32:59.108775Z",
     "iopub.status.busy": "2021-09-02T14:32:59.108118Z",
     "iopub.status.idle": "2021-09-02T14:32:59.116439Z",
     "shell.execute_reply": "2021-09-02T14:32:59.116984Z",
     "shell.execute_reply.started": "2021-09-02T13:41:03.855310Z"
    },
    "papermill": {
     "duration": 0.032717,
     "end_time": "2021-09-02T14:32:59.117168",
     "exception": false,
     "start_time": "2021-09-02T14:32:59.084451",
     "status": "completed"
    },
    "tags": []
   },
   "outputs": [
    {
     "data": {
      "text/plain": [
       "{0: 'Automatic', 1: 'Manual', 2: 'Other', 3: 'Semi-Auto'}"
      ]
     },
     "execution_count": 9,
     "metadata": {},
     "output_type": "execute_result"
    }
   ],
   "source": [
    "cclass['transmission'] = encoder.fit_transform(cclass['transmission'])\n",
    "transmission_mapping = {index : label for index, label in enumerate(encoder.classes_)}\n",
    "transmission_mapping"
   ]
  },
  {
   "cell_type": "code",
   "execution_count": 10,
   "id": "a6febfd0",
   "metadata": {
    "execution": {
     "iopub.execute_input": "2021-09-02T14:32:59.163170Z",
     "iopub.status.busy": "2021-09-02T14:32:59.162492Z",
     "iopub.status.idle": "2021-09-02T14:32:59.171052Z",
     "shell.execute_reply": "2021-09-02T14:32:59.171570Z",
     "shell.execute_reply.started": "2021-09-02T13:41:24.492330Z"
    },
    "papermill": {
     "duration": 0.033234,
     "end_time": "2021-09-02T14:32:59.171774",
     "exception": false,
     "start_time": "2021-09-02T14:32:59.138540",
     "status": "completed"
    },
    "tags": []
   },
   "outputs": [
    {
     "data": {
      "text/plain": [
       "{0: 'Diesel', 1: 'Hybrid', 2: 'Other', 3: 'Petrol'}"
      ]
     },
     "execution_count": 10,
     "metadata": {},
     "output_type": "execute_result"
    }
   ],
   "source": [
    "cclass['fuelType'] = encoder.fit_transform(cclass['fuelType'])\n",
    "fuelType_mapping = {index : label for index, label in enumerate(encoder.classes_)}\n",
    "fuelType_mapping"
   ]
  },
  {
   "cell_type": "code",
   "execution_count": 11,
   "id": "341c4a5a",
   "metadata": {
    "execution": {
     "iopub.execute_input": "2021-09-02T14:32:59.220388Z",
     "iopub.status.busy": "2021-09-02T14:32:59.219759Z",
     "iopub.status.idle": "2021-09-02T14:32:59.225703Z",
     "shell.execute_reply": "2021-09-02T14:32:59.225068Z",
     "shell.execute_reply.started": "2021-09-02T13:41:40.751377Z"
    },
    "papermill": {
     "duration": 0.032492,
     "end_time": "2021-09-02T14:32:59.225851",
     "exception": false,
     "start_time": "2021-09-02T14:32:59.193359",
     "status": "completed"
    },
    "tags": []
   },
   "outputs": [],
   "source": [
    "x = cclass.drop('price', axis=1)\n",
    "y = cclass['price']"
   ]
  },
  {
   "cell_type": "code",
   "execution_count": 12,
   "id": "76168ce7",
   "metadata": {
    "execution": {
     "iopub.execute_input": "2021-09-02T14:32:59.276836Z",
     "iopub.status.busy": "2021-09-02T14:32:59.276046Z",
     "iopub.status.idle": "2021-09-02T14:32:59.285889Z",
     "shell.execute_reply": "2021-09-02T14:32:59.286403Z",
     "shell.execute_reply.started": "2021-09-02T13:42:44.657931Z"
    },
    "papermill": {
     "duration": 0.038986,
     "end_time": "2021-09-02T14:32:59.286580",
     "exception": false,
     "start_time": "2021-09-02T14:32:59.247594",
     "status": "completed"
    },
    "tags": []
   },
   "outputs": [
    {
     "name": "stdout",
     "output_type": "stream",
     "text": [
      "x \n",
      " [[0.         1.         0.         0.00693068 0.         0.32258065]\n",
      " [0.         1.         0.         0.0057746  1.         0.24193548]\n",
      " [0.         1.         0.         0.00288441 0.         0.32258065]\n",
      " [0.         0.96551724 0.         0.02889612 0.         0.32258065]\n",
      " [0.         0.96551724 0.         0.02600593 0.         0.32258065]\n",
      " [0.         1.         0.         0.0057746  0.         0.32258065]\n",
      " [0.         1.         0.         0.00288441 0.         0.32258065]\n",
      " [0.         0.96551724 0.         0.00815612 1.         0.48387097]\n",
      " [0.         0.96551724 0.         0.0206244  0.         0.32258065]\n",
      " [0.         0.96551724 0.         0.0210059  0.         0.32258065]]\n",
      "y \n",
      " 0    30495\n",
      "1    29989\n",
      "2    37899\n",
      "3    30399\n",
      "4    29899\n",
      "5    30999\n",
      "6    35999\n",
      "7    37990\n",
      "8    28990\n",
      "9    28990\n",
      "Name: price, dtype: int64\n"
     ]
    }
   ],
   "source": [
    "scaler = MinMaxScaler(copy=True, feature_range=(0, 1))\n",
    "X = scaler.fit_transform(x)\n",
    "\n",
    "#showing data\n",
    "print('x \\n' , X[:10])\n",
    "print('y \\n' , y[:10])"
   ]
  },
  {
   "cell_type": "code",
   "execution_count": 13,
   "id": "e2c26b8a",
   "metadata": {
    "execution": {
     "iopub.execute_input": "2021-09-02T14:32:59.337489Z",
     "iopub.status.busy": "2021-09-02T14:32:59.336413Z",
     "iopub.status.idle": "2021-09-02T14:32:59.342275Z",
     "shell.execute_reply": "2021-09-02T14:32:59.341748Z",
     "shell.execute_reply.started": "2021-09-02T13:53:41.575709Z"
    },
    "papermill": {
     "duration": 0.033747,
     "end_time": "2021-09-02T14:32:59.342431",
     "exception": false,
     "start_time": "2021-09-02T14:32:59.308684",
     "status": "completed"
    },
    "tags": []
   },
   "outputs": [],
   "source": [
    "x_train,x_test,y_train,y_test=train_test_split(x,y,test_size=30,random_state=0)"
   ]
  },
  {
   "cell_type": "code",
   "execution_count": 14,
   "id": "ce4ba541",
   "metadata": {
    "execution": {
     "iopub.execute_input": "2021-09-02T14:32:59.391915Z",
     "iopub.status.busy": "2021-09-02T14:32:59.391029Z",
     "iopub.status.idle": "2021-09-02T14:32:59.394313Z",
     "shell.execute_reply": "2021-09-02T14:32:59.394814Z",
     "shell.execute_reply.started": "2021-09-02T13:53:59.380750Z"
    },
    "papermill": {
     "duration": 0.030491,
     "end_time": "2021-09-02T14:32:59.394998",
     "exception": false,
     "start_time": "2021-09-02T14:32:59.364507",
     "status": "completed"
    },
    "tags": []
   },
   "outputs": [
    {
     "name": "stdout",
     "output_type": "stream",
     "text": [
      "x_train shape is: (3869, 6)\n"
     ]
    }
   ],
   "source": [
    "print(\"x_train shape is:\",x_train.shape)"
   ]
  },
  {
   "cell_type": "code",
   "execution_count": 15,
   "id": "904c73f1",
   "metadata": {
    "execution": {
     "iopub.execute_input": "2021-09-02T14:32:59.444638Z",
     "iopub.status.busy": "2021-09-02T14:32:59.443996Z",
     "iopub.status.idle": "2021-09-02T14:32:59.447998Z",
     "shell.execute_reply": "2021-09-02T14:32:59.447450Z",
     "shell.execute_reply.started": "2021-09-02T13:54:25.918807Z"
    },
    "papermill": {
     "duration": 0.03064,
     "end_time": "2021-09-02T14:32:59.448146",
     "exception": false,
     "start_time": "2021-09-02T14:32:59.417506",
     "status": "completed"
    },
    "tags": []
   },
   "outputs": [
    {
     "name": "stdout",
     "output_type": "stream",
     "text": [
      "x_test shape is: (30, 6)\n"
     ]
    }
   ],
   "source": [
    "print(\"x_test shape is:\",x_test.shape)"
   ]
  },
  {
   "cell_type": "code",
   "execution_count": 16,
   "id": "f4e0c982",
   "metadata": {
    "execution": {
     "iopub.execute_input": "2021-09-02T14:32:59.497533Z",
     "iopub.status.busy": "2021-09-02T14:32:59.496916Z",
     "iopub.status.idle": "2021-09-02T14:32:59.502596Z",
     "shell.execute_reply": "2021-09-02T14:32:59.501981Z",
     "shell.execute_reply.started": "2021-09-02T13:54:42.453750Z"
    },
    "papermill": {
     "duration": 0.031168,
     "end_time": "2021-09-02T14:32:59.502753",
     "exception": false,
     "start_time": "2021-09-02T14:32:59.471585",
     "status": "completed"
    },
    "tags": []
   },
   "outputs": [
    {
     "name": "stdout",
     "output_type": "stream",
     "text": [
      "y_train shape is: (3869,)\n"
     ]
    }
   ],
   "source": [
    "print(\"y_train shape is:\",y_train.shape)"
   ]
  },
  {
   "cell_type": "code",
   "execution_count": 17,
   "id": "deb755f1",
   "metadata": {
    "execution": {
     "iopub.execute_input": "2021-09-02T14:32:59.555005Z",
     "iopub.status.busy": "2021-09-02T14:32:59.554045Z",
     "iopub.status.idle": "2021-09-02T14:32:59.557407Z",
     "shell.execute_reply": "2021-09-02T14:32:59.558110Z",
     "shell.execute_reply.started": "2021-09-02T13:55:20.043862Z"
    },
    "papermill": {
     "duration": 0.031515,
     "end_time": "2021-09-02T14:32:59.558338",
     "exception": false,
     "start_time": "2021-09-02T14:32:59.526823",
     "status": "completed"
    },
    "tags": []
   },
   "outputs": [
    {
     "name": "stdout",
     "output_type": "stream",
     "text": [
      "y_test shape is: (30,)\n"
     ]
    }
   ],
   "source": [
    "print(\"y_test shape is:\",y_test.shape)"
   ]
  },
  {
   "cell_type": "code",
   "execution_count": 18,
   "id": "ed6c1be4",
   "metadata": {
    "execution": {
     "iopub.execute_input": "2021-09-02T14:32:59.616196Z",
     "iopub.status.busy": "2021-09-02T14:32:59.615161Z",
     "iopub.status.idle": "2021-09-02T14:33:00.249554Z",
     "shell.execute_reply": "2021-09-02T14:33:00.250062Z",
     "shell.execute_reply.started": "2021-09-02T13:58:18.529997Z"
    },
    "papermill": {
     "duration": 0.667405,
     "end_time": "2021-09-02T14:33:00.250258",
     "exception": false,
     "start_time": "2021-09-02T14:32:59.582853",
     "status": "completed"
    },
    "tags": []
   },
   "outputs": [
    {
     "name": "stdout",
     "output_type": "stream",
     "text": [
      "Random Forest Regressor Train Score is :  0.9382210520516331\n",
      "Random Forest Regressor Test Score is :  0.940704848157113\n",
      "Random Forest Regressor No. of features are :  6\n",
      "----------------------------------------------------\n",
      "Predicted Value for Random Forest Regressor is :  [35323.13246182 41280.15436236 25525.27861933 28863.8108408\n",
      " 26934.78623555 17282.22020143 26283.30365959 27302.2854322\n",
      " 21597.11618416 23441.26405571]\n"
     ]
    }
   ],
   "source": [
    "RandomForestRegressorModel = RandomForestRegressor(n_estimators=100,max_depth=9, random_state=33)\n",
    "RandomForestRegressorModel.fit(x_train, y_train)\n",
    "\n",
    "print('Random Forest Regressor Train Score is : ' , RandomForestRegressorModel.score(x_train, y_train))\n",
    "print('Random Forest Regressor Test Score is : ' , RandomForestRegressorModel.score(x_test, y_test))\n",
    "print('Random Forest Regressor No. of features are : ' , RandomForestRegressorModel.n_features_)\n",
    "print('----------------------------------------------------')\n",
    "\n",
    "y_pred = RandomForestRegressorModel.predict(x_test)\n",
    "print('Predicted Value for Random Forest Regressor is : ' , y_pred[:10])"
   ]
  },
  {
   "cell_type": "code",
   "execution_count": 19,
   "id": "0f54e641",
   "metadata": {
    "execution": {
     "iopub.execute_input": "2021-09-02T14:33:00.308981Z",
     "iopub.status.busy": "2021-09-02T14:33:00.308097Z",
     "iopub.status.idle": "2021-09-02T14:33:00.568121Z",
     "shell.execute_reply": "2021-09-02T14:33:00.569340Z",
     "shell.execute_reply.started": "2021-09-02T14:20:00.995891Z"
    },
    "papermill": {
     "duration": 0.294556,
     "end_time": "2021-09-02T14:33:00.569683",
     "exception": false,
     "start_time": "2021-09-02T14:33:00.275127",
     "status": "completed"
    },
    "tags": []
   },
   "outputs": [
    {
     "name": "stdout",
     "output_type": "stream",
     "text": [
      "Linear Regression Train Score is :  0.7615257786830939\n",
      "Linear Regression Test Score is :  0.8440894288432877\n",
      "Linear Regression Coef is :  [ 0.00000000e+00  1.95262417e+03 -5.74673038e+01 -1.29445008e-01\n",
      "  7.66377664e+02  8.83314599e+03]\n",
      "Linear Regression intercept is :  -3931295.01298173\n",
      "----------------------------------------------------\n",
      "Predicted Value for Linear Regression is :  [30409.08108203 38988.24050822 25016.34781873 26170.7384\n",
      " 26988.16219029 17367.63973006 25670.30399911 24638.01232682\n",
      " 24170.08550582 23096.06606543]\n"
     ]
    }
   ],
   "source": [
    "LinearRegressionModel = LinearRegression(fit_intercept=True, normalize=True,copy_X=True,n_jobs=-1)\n",
    "LinearRegressionModel.fit(x_train, y_train)\n",
    "\n",
    "print('Linear Regression Train Score is : ' , LinearRegressionModel.score(x_train, y_train))\n",
    "print('Linear Regression Test Score is : ' , LinearRegressionModel.score(x_test, y_test))\n",
    "print('Linear Regression Coef is : ' , LinearRegressionModel.coef_)\n",
    "print('Linear Regression intercept is : ' , LinearRegressionModel.intercept_)\n",
    "print('----------------------------------------------------')\n",
    "\n",
    "y_pred = LinearRegressionModel.predict(x_test)\n",
    "print('Predicted Value for Linear Regression is : ' , y_pred[:10])\n"
   ]
  },
  {
   "cell_type": "code",
   "execution_count": 20,
   "id": "20d6b9ea",
   "metadata": {
    "execution": {
     "iopub.execute_input": "2021-09-02T14:33:00.669183Z",
     "iopub.status.busy": "2021-09-02T14:33:00.668461Z",
     "iopub.status.idle": "2021-09-02T14:33:00.691180Z",
     "shell.execute_reply": "2021-09-02T14:33:00.690186Z",
     "shell.execute_reply.started": "2021-09-02T14:23:06.143150Z"
    },
    "papermill": {
     "duration": 0.076166,
     "end_time": "2021-09-02T14:33:00.691387",
     "exception": false,
     "start_time": "2021-09-02T14:33:00.615221",
     "status": "completed"
    },
    "tags": []
   },
   "outputs": [
    {
     "name": "stdout",
     "output_type": "stream",
     "text": [
      "DecisionTreeRegressor Train Score is :  0.9488810259680093\n",
      "DecisionTreeRegressor Test Score is :  0.9409890006566614\n",
      "----------------------------------------------------\n",
      "Predicted Value for DecisionTreeRegressorModel is :  [30500.         41720.80769231 26594.71428571 26696.\n",
      " 24914.4        17973.         25975.34615385 27082.44444444\n",
      " 22153.75       24132.16666667]\n"
     ]
    }
   ],
   "source": [
    "DecisionTreeRegressorModel = DecisionTreeRegressor( max_depth=11,random_state=33)\n",
    "DecisionTreeRegressorModel.fit(x_train, y_train)\n",
    "\n",
    "print('DecisionTreeRegressor Train Score is : ' , DecisionTreeRegressorModel.score(x_train, y_train))\n",
    "print('DecisionTreeRegressor Test Score is : ' , DecisionTreeRegressorModel.score(x_test, y_test))\n",
    "print('----------------------------------------------------')\n",
    "\n",
    "y_pred = DecisionTreeRegressorModel.predict(x_test)\n",
    "print('Predicted Value for DecisionTreeRegressorModel is : ' , y_pred[:10])"
   ]
  },
  {
   "cell_type": "code",
   "execution_count": 21,
   "id": "36cf0b48",
   "metadata": {
    "execution": {
     "iopub.execute_input": "2021-09-02T14:33:00.748567Z",
     "iopub.status.busy": "2021-09-02T14:33:00.747722Z",
     "iopub.status.idle": "2021-09-02T14:33:00.752684Z",
     "shell.execute_reply": "2021-09-02T14:33:00.751911Z",
     "shell.execute_reply.started": "2021-09-02T14:26:35.527629Z"
    },
    "papermill": {
     "duration": 0.035699,
     "end_time": "2021-09-02T14:33:00.752900",
     "exception": false,
     "start_time": "2021-09-02T14:33:00.717201",
     "status": "completed"
    },
    "tags": []
   },
   "outputs": [
    {
     "name": "stdout",
     "output_type": "stream",
     "text": [
      "Mean Squared Error Value is :  6647820.985910559\n"
     ]
    }
   ],
   "source": [
    "MSEValue = mean_squared_error(y_test, y_pred, multioutput='uniform_average') # it can be raw_values\n",
    "print('Mean Squared Error Value is : ', MSEValue)"
   ]
  },
  {
   "cell_type": "code",
   "execution_count": null,
   "id": "eeb5db4f",
   "metadata": {
    "papermill": {
     "duration": 0.026202,
     "end_time": "2021-09-02T14:33:00.804911",
     "exception": false,
     "start_time": "2021-09-02T14:33:00.778709",
     "status": "completed"
    },
    "tags": []
   },
   "outputs": [],
   "source": []
  }
 ],
 "metadata": {
  "kernelspec": {
   "display_name": "Python 3",
   "language": "python",
   "name": "python3"
  },
  "language_info": {
   "codemirror_mode": {
    "name": "ipython",
    "version": 3
   },
   "file_extension": ".py",
   "mimetype": "text/x-python",
   "name": "python",
   "nbconvert_exporter": "python",
   "pygments_lexer": "ipython3",
   "version": "3.7.10"
  },
  "papermill": {
   "default_parameters": {},
   "duration": 13.777758,
   "end_time": "2021-09-02T14:33:01.642121",
   "environment_variables": {},
   "exception": null,
   "input_path": "__notebook__.ipynb",
   "output_path": "__notebook__.ipynb",
   "parameters": {},
   "start_time": "2021-09-02T14:32:47.864363",
   "version": "2.3.3"
  }
 },
 "nbformat": 4,
 "nbformat_minor": 5
}
